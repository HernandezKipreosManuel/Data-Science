{
 "cells": [
  {
   "cell_type": "code",
   "execution_count": null,
   "metadata": {},
   "outputs": [],
   "source": [
    "#Importamos numpy para trabajar facilmente con arreglos numéricos\n",
    "import tensorflow as tf\n",
    "import numpy as np"
   ]
  },
  {
   "cell_type": "code",
   "execution_count": null,
   "metadata": {},
   "outputs": [],
   "source": [
    "#Es un problema de clasificación binaria en el que queremos clasificar si una temperatura dada en grados Celsius es mayor (etiqueta 1) o menor (etiqueta 0) que 15 grados Celsius.\n",
    "#Declaro las entradas de °C (Entiendo que este es el set de datos para que la red aprenda)\n",
    "temperaturas_celsius = np.array([-40, -10, 0, 8, 15, 22, 38], dtype=float)\n",
    "etiquetas = np.array([0, 0, 0, 0, 1, 1, 1], dtype=int)"
   ]
  },
  {
   "cell_type": "code",
   "execution_count": null,
   "metadata": {},
   "outputs": [],
   "source": [
    "#Le indico que tengo una entrada con una neurona de entrada y una de salida\n",
    "capa = tf.keras.layers.Dense(units=1, input_shape=[1], activation='sigmoid')\n",
    "modelo = tf.keras.Sequential([capa])"
   ]
  },
  {
   "cell_type": "code",
   "execution_count": null,
   "metadata": {},
   "outputs": [],
   "source": [
    "#Utilizo el optimizador Adam para que ajuste los pesos y sesgos de manera eficiente para que aprenda, con su taza de aprendizaje\n",
    "modelo.compile(\n",
    "    optimizer=tf.keras.optimizers.Adam(0.1),\n",
    "    loss='binary_crossentropy'\n",
    ")"
   ]
  },
  {
   "cell_type": "code",
   "execution_count": null,
   "metadata": {},
   "outputs": [],
   "source": [
    "#Entreno el modelo y guardo el historial de entrenamiento\n",
    "print('Comenzando entrenamiento...')\n",
    "historial = modelo.fit(temperaturas_celsius, etiquetas, epochs=1000, verbose=False)\n",
    "print('Modelo entrenado!')"
   ]
  },
  {
   "cell_type": "code",
   "execution_count": null,
   "metadata": {},
   "outputs": [],
   "source": [
    "#Veamos resultado de la función de pérdida\n",
    "#Esta función nos dice que tan mal están los resultados de la red en cada vuelta que dió (osea en las epochs=1000)\n",
    "\n",
    "import matplotlib.pyplot as plt\n",
    "plt.xlabel ('# Epoca')\n",
    "plt.ylabel ('Magnitud de pérdida')\n",
    "plt.plot(historial.history['loss'])\n",
    "plt.show()"
   ]
  },
  {
   "cell_type": "code",
   "execution_count": null,
   "metadata": {},
   "outputs": [],
   "source": [
    "print('Hagamos una predicción!')\n",
    "temperatura_prueba = 100.0\n",
    "resultado = modelo.predict([temperatura_prueba])\n",
    "clase_predicha = 1 if resultado > 0.5 else 0\n",
    "print(f'El resultado es {clase_predicha} (temperatura {temperatura_prueba}°C {\"mayor\" if clase_predicha == 1 else \"menor\"} a 15°C)')"
   ]
  },
  {
   "cell_type": "code",
   "execution_count": null,
   "metadata": {},
   "outputs": [],
   "source": [
    "print('Variables internas del modelo')\n",
    "print(capa.get_weights())"
   ]
  }
 ],
 "metadata": {
  "language_info": {
   "name": "python"
  },
  "orig_nbformat": 4
 },
 "nbformat": 4,
 "nbformat_minor": 2
}
